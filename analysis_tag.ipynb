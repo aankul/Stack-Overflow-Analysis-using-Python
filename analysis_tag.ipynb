{
 "cells": [
  {
   "cell_type": "markdown",
   "metadata": {},
   "source": [
    "### Analysis 4"
   ]
  },
  {
   "cell_type": "code",
   "execution_count": 41,
   "metadata": {
    "collapsed": true
   },
   "outputs": [],
   "source": [
    "import os\n",
    "import json\n",
    "from bs4 import BeautifulSoup"
   ]
  },
  {
   "cell_type": "code",
   "execution_count": 4,
   "metadata": {
    "collapsed": false
   },
   "outputs": [],
   "source": [
    "import argparse\n",
    "title_score = {}\n",
    "\n",
    "parser = argparse.ArgumentParser(description='Process some characters.')\n",
    "parser.add_argument(\"tag\",help=\"ENTER THE KEYWORD: \")\n",
    "args = parser.parse_args()\n",
    "#fromdate = '2016-10-29'\n",
    "#todate = '2016-10-30'\n",
    "tag = args.tag"
   ]
  },
  {
   "cell_type": "code",
   "execution_count": 44,
   "metadata": {
    "collapsed": false
   },
   "outputs": [],
   "source": [
    "ans_data = {}\n",
    "lenBdy=0\n",
    "i=0\n",
    "avgLenBdy=0\n",
    "html_tag = ''\n",
    "hasCode=0\n",
    "noCode=0\n",
    "percent=0\n",
    "avgLengthTag = {}\n",
    "percentCode={}\n",
    "\n",
    "mysearch = tag.split(\";\")\n",
    "for term in mysearch :\n",
    "    file_name = \"answers_\"+term+\".json\"\n",
    "    json_files = [f_json for f_json in os.listdir(\".\") if f_json == file_name]\n",
    "    if json_files:\n",
    "        with open(json_files[0],'r') as data_file:\n",
    "            file_ans = json.load(data_file)\n",
    "            data_file.close()\n",
    "            for ids in file_ans :\n",
    "                bdy = file_ans[ids]['body']\n",
    "                lenBdy += len(bdy)\n",
    "                i = i + 1\n",
    "                avgLenBdy = (lenBdy/i)\n",
    "                soup = BeautifulSoup(bdy, 'html.parser')\n",
    "                html_tag = soup.findAll('code')\n",
    "                if (html_tag != None) :\n",
    "                    hasCode = hasCode + 1\n",
    "                else :\n",
    "                    noCode = noCode + 1\n",
    "                percent = (hasCode/(hasCode+noCode))*100\n",
    "                avgLengthTag[term] =  avgLenBdy\n",
    "                percentCode[term] = percent"
   ]
  },
  {
   "cell_type": "code",
   "execution_count": 45,
   "metadata": {
    "collapsed": false
   },
   "outputs": [
    {
     "name": "stdout",
     "output_type": "stream",
     "text": [
      "The avg length of the answer body per tag is :\n",
      "{'pandas': 1071.8666666666666}\n",
      "The percentage of code in the answers per tag is :\n",
      "{'pandas': 100.0}\n"
     ]
    }
   ],
   "source": [
    "print(\"The avg length of the answer body per tag is :\")\n",
    "print(avgLengthTag)\n",
    "print(\"The percentage of code in the answers per tag is :\")\n",
    "print(percentCode)\n",
    "print(\"\")\n",
    "print(\"\")\n",
    "print(\"\")"
   ]
  },
  {
   "cell_type": "markdown",
   "metadata": {},
   "source": [
    "### Analysis 5"
   ]
  },
  {
   "cell_type": "code",
   "execution_count": 72,
   "metadata": {
    "collapsed": false
   },
   "outputs": [],
   "source": [
    "loc = ''\n",
    "locationDic = {}\n",
    "tag = 'python;pandas'\n",
    "mysearch = tag.split(\";\")\n",
    "for term in mysearch :\n",
    "    file_name = \"user_\"+term+\".json\"\n",
    "    json_files = [f_json for f_json in os.listdir(\".\") if f_json == file_name]\n",
    "    if json_files:\n",
    "        with open(json_files[0],'r') as data_file:\n",
    "            file_usr = json.load(data_file)\n",
    "            data_file.close()\n",
    "            for ids in file_usr :\n",
    "                if 'location' in file_usr[ids].keys() :\n",
    "                    loc = file_usr[ids][\"location\"]\n",
    "                    if(loc in locationDic) :\n",
    "                        locationDic[loc] = locationDic[loc] + 1\n",
    "                    else :\n",
    "                        locationDic[loc] = 1\n",
    "                    "
   ]
  },
  {
   "cell_type": "code",
   "execution_count": 75,
   "metadata": {
    "collapsed": false
   },
   "outputs": [
    {
     "name": "stdout",
     "output_type": "stream",
     "text": [
      "For a given tag, the most popular location is :\n",
      "Katy, TX  :  2\n",
      "\n",
      "\n",
      "\n"
     ]
    }
   ],
   "source": [
    "print (\"For a given tag, the most popular location is :\")\n",
    "sorted_loc = sorted(locationDic.items(), key=operator.itemgetter(1),reverse=True)\n",
    "i = 0\n",
    "for (key, val) in sorted_loc :\n",
    "    if(i < 1) :\n",
    "        print(key,\" : \",val)\n",
    "        i = i+1\n",
    "print(\"\")\n",
    "print(\"\")\n",
    "print(\"\")"
   ]
  }
 ],
 "metadata": {
  "kernelspec": {
   "display_name": "Python [Root]",
   "language": "python",
   "name": "Python [Root]"
  },
  "language_info": {
   "codemirror_mode": {
    "name": "ipython",
    "version": 3
   },
   "file_extension": ".py",
   "mimetype": "text/x-python",
   "name": "python",
   "nbconvert_exporter": "python",
   "pygments_lexer": "ipython3",
   "version": "3.5.1"
  }
 },
 "nbformat": 4,
 "nbformat_minor": 0
}
